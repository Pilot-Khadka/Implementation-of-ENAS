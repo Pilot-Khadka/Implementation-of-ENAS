{
 "cells": [
  {
   "cell_type": "markdown",
   "id": "a548b1db9d3bd25f",
   "metadata": {},
   "source": [
    "# Neural architecture search for Multi-Layer Perceptron"
   ]
  },
  {
   "cell_type": "markdown",
   "id": "2ae00850c39a917b",
   "metadata": {},
   "source": [
    "### First defining the parameters to create a dictionary file containing a primary key for all possible combination of parameters\n"
   ]
  },
  {
   "cell_type": "code",
   "execution_count": 1,
   "id": "ba9b48b3ab209860",
   "metadata": {
    "collapsed": false,
    "tags": [],
    "ExecuteTime": {
     "end_time": "2023-11-08T02:18:41.318692677Z",
     "start_time": "2023-11-08T02:18:41.299541130Z"
    }
   },
   "outputs": [],
   "source": [
    "from parameters import *"
   ]
  },
  {
   "cell_type": "code",
   "execution_count": 2,
   "id": "f8177931d9d83b9e",
   "metadata": {
    "collapsed": false,
    "tags": [],
    "ExecuteTime": {
     "end_time": "2023-11-08T02:18:41.366962918Z",
     "start_time": "2023-11-08T02:18:41.351873944Z"
    }
   },
   "outputs": [
    {
     "name": "stdout",
     "output_type": "stream",
     "text": [
      "vocab size :  23\n",
      "Final layer id :  (3, 'softmax')\n",
      "Second last layer of the vocabulary :  dropout\n"
     ]
    }
   ],
   "source": [
    "from parameters import *\n",
    "\n",
    "def vocab_dict():\n",
    "    vocab = {}\n",
    "    \n",
    "    for i in range(len(nodes)):\n",
    "        for j in range(len(activations)):\n",
    "            \n",
    "            # Calculate layer ID\n",
    "            layer_id = len(activations) * i + j + 1\n",
    "            \n",
    "            # Store layer parameters in the vocabulary dictionary\n",
    "            vocab[layer_id] = (nodes[i], activations[j])\n",
    "    \n",
    "    # Add dropout information to the vocabulary\n",
    "    vocab[len(vocab) + 1] = (('dropout'))\n",
    "    \n",
    "    if target_classes == 2:\n",
    "        vocab[len(vocab) + 1] = (target_classes - 1, 'sigmoid')\n",
    "    else:\n",
    "        vocab[len(vocab) + 1] = (target_classes, 'softmax')\n",
    "    return vocab\n",
    "\n",
    "vocab = vocab_dict()\n",
    "print('vocab size : ' ,len(vocab))\n",
    "\n",
    "final_vocab_length = len(vocab)\n",
    "\n",
    "# The final id of the vocabulary will always be the size of output classes and a softmax layer\n",
    "\n",
    "print('Final layer id : ',vocab[final_vocab_length])\n",
    "\n",
    "# the semi-final layer \n",
    "print(\"Second last layer of the vocabulary : \",vocab[final_vocab_length-1])"
   ]
  },
  {
   "cell_type": "code",
   "execution_count": 3,
   "id": "74bc385c1bee4254",
   "metadata": {
    "collapsed": false,
    "tags": [],
    "ExecuteTime": {
     "end_time": "2023-11-08T02:18:41.383573699Z",
     "start_time": "2023-11-08T02:18:41.352918479Z"
    }
   },
   "outputs": [
    {
     "name": "stdout",
     "output_type": "stream",
     "text": [
      "final_layer_id 23\n",
      "dropout_id: 22\n",
      "vocab ids: [0, 1, 2, 3, 4, 5, 6, 7, 8, 9, 10, 11, 12, 13, 14, 15, 16, 17, 18, 19, 20, 21, 22, 23]\n"
     ]
    }
   ],
   "source": [
    "## Step 2: sample architecture from the vocabulary according to the size of the defined model\n",
    "\n",
    "final_layer_id = len(vocab)\n",
    "dropout_id = final_layer_id -1\n",
    "print('final_layer_id',final_layer_id)\n",
    "print('dropout_id:',dropout_id)\n",
    "\n",
    "vocab_idx = [0]+list(vocab.keys())\n",
    "print('vocab ids:',vocab_idx)"
   ]
  },
  {
   "cell_type": "code",
   "execution_count": 5,
   "id": "f2417fc0bf1b29b2",
   "metadata": {
    "collapsed": false,
    "tags": [],
    "ExecuteTime": {
     "end_time": "2023-11-08T02:18:51.823388072Z",
     "start_time": "2023-11-08T02:18:47.271501908Z"
    }
   },
   "outputs": [
    {
     "name": "stderr",
     "output_type": "stream",
     "text": [
      "2023-11-08 08:03:47.750908: I tensorflow/tsl/cuda/cudart_stub.cc:28] Could not find cuda drivers on your machine, GPU will not be used.\n",
      "2023-11-08 08:03:47.828572: I tensorflow/tsl/cuda/cudart_stub.cc:28] Could not find cuda drivers on your machine, GPU will not be used.\n",
      "2023-11-08 08:03:47.832339: I tensorflow/core/platform/cpu_feature_guard.cc:182] This TensorFlow binary is optimized to use available CPU instructions in performance-critical operations.\n",
      "To enable the following instructions: AVX2 FMA, in other operations, rebuild TensorFlow with the appropriate compiler flags.\n",
      "2023-11-08 08:03:49.702581: W tensorflow/compiler/tf2tensorrt/utils/py_utils.cc:38] TF-TRT Warning: Could not find TensorRT\n"
     ]
    },
    {
     "name": "stdout",
     "output_type": "stream",
     "text": [
      "[[0 0 0 0 0 0 0 0 0]]\n"
     ]
    }
   ],
   "source": [
    "from keras.preprocessing.sequence import pad_sequences\n",
    "\n",
    "samples = []\n",
    "seed = []\n",
    "\n",
    "sequence = pad_sequences([seed],maxlen = 10-1,padding = 'post')\n",
    "print(sequence)"
   ]
  },
  {
   "cell_type": "code",
   "execution_count": 6,
   "id": "750534826d769463",
   "metadata": {
    "collapsed": false,
    "tags": [],
    "ExecuteTime": {
     "end_time": "2023-11-08T02:18:51.837323023Z",
     "start_time": "2023-11-08T02:18:51.826201312Z"
    }
   },
   "outputs": [
    {
     "name": "stdout",
     "output_type": "stream",
     "text": [
      "[[[0 0 0 0 0 0 0 0 0]]]\n"
     ]
    }
   ],
   "source": [
    "sequence = sequence.reshape(1,1,9)\n",
    "print(sequence)"
   ]
  },
  {
   "cell_type": "code",
   "execution_count": 7,
   "id": "260ac396a2375fd2",
   "metadata": {
    "collapsed": false,
    "tags": [],
    "ExecuteTime": {
     "end_time": "2023-11-08T02:18:53.680562489Z",
     "start_time": "2023-11-08T02:18:53.671968237Z"
    }
   },
   "outputs": [],
   "source": [
    "# ## Define a LSTM model to choose between sequences?\n",
    "# import tensorflow as tf\n",
    "# from tensorflow import keras\n",
    "# from tensorflow.keras import layers\n",
    "# \n",
    "# model = keras.Sequential()\n",
    "# model.add(layers.LSTM(controller_input_shape, input_shape=(None, 28)))\n",
    "# model.add(layers.BatchNormalization())\n",
    "# model.add(layers.Dense(10))\n",
    "# print(model.summary())"
   ]
  },
  {
   "cell_type": "code",
   "execution_count": 8,
   "id": "e9ccb18e9083d0a7",
   "metadata": {
    "collapsed": false,
    "tags": [],
    "ExecuteTime": {
     "end_time": "2023-11-08T02:18:54.314937529Z",
     "start_time": "2023-11-08T02:18:54.301207195Z"
    }
   },
   "outputs": [
    {
     "name": "stdout",
     "output_type": "stream",
     "text": [
      "24\n"
     ]
    }
   ],
   "source": [
    "controller_classes = len(vocab) + 1\n",
    "print(controller_classes)"
   ]
  },
  {
   "cell_type": "code",
   "execution_count": 9,
   "id": "e2d05067debea164",
   "metadata": {
    "collapsed": false,
    "tags": [],
    "ExecuteTime": {
     "end_time": "2023-11-08T02:18:56.243676849Z",
     "start_time": "2023-11-08T02:18:55.296371133Z"
    }
   },
   "outputs": [
    {
     "name": "stderr",
     "output_type": "stream",
     "text": [
      "2023-11-08 08:03:55.592884: I tensorflow/compiler/xla/stream_executor/cuda/cuda_gpu_executor.cc:995] successful NUMA node read from SysFS had negative value (-1), but there must be at least one NUMA node, so returning NUMA node zero. See more at https://github.com/torvalds/linux/blob/v6.0/Documentation/ABI/testing/sysfs-bus-pci#L344-L355\n",
      "2023-11-08 08:03:55.593760: W tensorflow/core/common_runtime/gpu/gpu_device.cc:1960] Cannot dlopen some GPU libraries. Please make sure the missing libraries mentioned above are installed properly if you would like to use GPU. Follow the guide at https://www.tensorflow.org/install/gpu for how to download and setup the required libraries for your platform.\n",
      "Skipping registering GPU devices...\n"
     ]
    },
    {
     "name": "stdout",
     "output_type": "stream",
     "text": [
      "Model: \"model\"\n",
      "_________________________________________________________________\n",
      " Layer (type)                Output Shape              Param #   \n",
      "=================================================================\n",
      " main_input (InputLayer)     [(32, 1, 9)]              0         \n",
      "                                                                 \n",
      " lstm (LSTM)                 (32, 1, 100)              44000     \n",
      "                                                                 \n",
      " main_output (Dense)         (32, 1, 24)               2424      \n",
      "                                                                 \n",
      "=================================================================\n",
      "Total params: 46424 (181.34 KB)\n",
      "Trainable params: 46424 (181.34 KB)\n",
      "Non-trainable params: 0 (0.00 Byte)\n",
      "_________________________________________________________________\n",
      "None\n"
     ]
    }
   ],
   "source": [
    "from keras.layers import Input,LSTM,Dense\n",
    "from keras.models import Model\n",
    "\n",
    "main_input = Input(\n",
    "                    shape = controller_input_shape, \n",
    "                    batch_size = controller_batch_size, \n",
    "                    name = 'main_input')\n",
    "\n",
    "x = LSTM(controller_lstm_dim, \n",
    "         return_sequences = True)(main_input)\n",
    "\n",
    "main_output = Dense(controller_classes, \n",
    "                    activation = 'softmax', \n",
    "                    name = 'main_output')(x)\n",
    "\n",
    "model = Model(inputs = [main_input], \n",
    "              outputs = [main_output])\n",
    "\n",
    "print(model.summary())"
   ]
  },
  {
   "cell_type": "code",
   "execution_count": 31,
   "id": "c9a2f5bd4cca2f99",
   "metadata": {
    "collapsed": false,
    "tags": [],
    "ExecuteTime": {
     "end_time": "2023-11-08T02:24:19.490651960Z",
     "start_time": "2023-11-08T02:24:19.385249410Z"
    }
   },
   "outputs": [
    {
     "name": "stdout",
     "output_type": "stream",
     "text": [
      "(1, 1, 9)\n",
      "1/1 [==============================] - 0s 27ms/step\n",
      "[[[0.04166667 0.04166667 0.04166667 0.04166667 0.04166667 0.04166667\n",
      "   0.04166667 0.04166667 0.04166667 0.04166667 0.04166667 0.04166667\n",
      "   0.04166667 0.04166667 0.04166667 0.04166667 0.04166667 0.04166667\n",
      "   0.04166667 0.04166667 0.04166667 0.04166667 0.04166667 0.04166667]]]\n"
     ]
    }
   ],
   "source": [
    "sequence = sequence.reshape(1,1,max_len-1)\n",
    "print(sequence.shape)\n",
    "\n",
    "probab = model.predict(sequence)\n",
    "print(probab)"
   ]
  },
  {
   "cell_type": "code",
   "execution_count": 32,
   "id": "1afa20a00db2ad14",
   "metadata": {
    "collapsed": false,
    "ExecuteTime": {
     "end_time": "2023-11-08T02:24:20.656516420Z",
     "start_time": "2023-11-08T02:24:20.647964347Z"
    }
   },
   "outputs": [
    {
     "name": "stdout",
     "output_type": "stream",
     "text": [
      "[0.04166667 0.04166667 0.04166667 0.04166667 0.04166667 0.04166667\n",
      " 0.04166667 0.04166667 0.04166667 0.04166667 0.04166667 0.04166667\n",
      " 0.04166667 0.04166667 0.04166667 0.04166667 0.04166667 0.04166667\n",
      " 0.04166667 0.04166667 0.04166667 0.04166667 0.04166667 0.04166667]\n"
     ]
    }
   ],
   "source": [
    "probab = probab[0][0]\n",
    "print(probab)"
   ]
  },
  {
   "cell_type": "code",
   "execution_count": 35,
   "outputs": [
    {
     "name": "stdout",
     "output_type": "stream",
     "text": [
      "21\n"
     ]
    }
   ],
   "source": [
    "import numpy as np\n",
    "next = np.random.choice(vocab_idx,size=1, p = probab)[0]\n",
    "print(next)"
   ],
   "metadata": {
    "collapsed": false,
    "ExecuteTime": {
     "end_time": "2023-11-08T02:24:24.337654859Z",
     "start_time": "2023-11-08T02:24:24.325964322Z"
    }
   },
   "id": "986cb893d6932852"
  },
  {
   "cell_type": "code",
   "execution_count": 36,
   "outputs": [
    {
     "name": "stdout",
     "output_type": "stream",
     "text": [
      "[21]\n"
     ]
    }
   ],
   "source": [
    "seed.append(next)\n",
    "print(seed)"
   ],
   "metadata": {
    "collapsed": false,
    "ExecuteTime": {
     "end_time": "2023-11-08T02:26:45.942147591Z",
     "start_time": "2023-11-08T02:26:45.908311308Z"
    }
   },
   "id": "a4bb881df700d448"
  },
  {
   "cell_type": "code",
   "execution_count": 37,
   "outputs": [
    {
     "name": "stdout",
     "output_type": "stream",
     "text": [
      "[[21  0  0  0  0  0  0  0  0]]\n"
     ]
    }
   ],
   "source": [
    "sequence = pad_sequences([seed],maxlen=max_len-1,padding='post')\n",
    "print(sequence)"
   ],
   "metadata": {
    "collapsed": false,
    "ExecuteTime": {
     "end_time": "2023-11-08T02:30:32.201236712Z",
     "start_time": "2023-11-08T02:30:32.132004927Z"
    }
   },
   "id": "ed2f8c9fca55b51c"
  },
  {
   "cell_type": "code",
   "execution_count": 40,
   "outputs": [
    {
     "name": "stdout",
     "output_type": "stream",
     "text": [
      "[[[21  0  0  0  0  0  0  0  0]]]\n"
     ]
    }
   ],
   "source": [
    "sequence = sequence.reshape(1, 1, max_len - 1)\n",
    "print(sequence)"
   ],
   "metadata": {
    "collapsed": false,
    "ExecuteTime": {
     "end_time": "2023-11-08T02:31:03.838815452Z",
     "start_time": "2023-11-08T02:31:03.823283044Z"
    }
   },
   "id": "ea4bbce6a523a643"
  },
  {
   "cell_type": "code",
   "execution_count": 46,
   "outputs": [
    {
     "name": "stdout",
     "output_type": "stream",
     "text": [
      "1/1 [==============================] - 0s 29ms/step\n",
      "[[[0.0273195  0.04185842 0.04114107 0.03899648 0.03210942 0.03029226\n",
      "   0.0248489  0.04742223 0.02984473 0.04737589 0.01995707 0.08189879\n",
      "   0.02961613 0.03817816 0.04517929 0.03946372 0.07375851 0.07337391\n",
      "   0.04744702 0.05357071 0.04997896 0.01759756 0.02853585 0.0402353 ]]]\n"
     ]
    }
   ],
   "source": [
    "probab = model.predict(sequence)\n",
    "print(probab)"
   ],
   "metadata": {
    "collapsed": false,
    "ExecuteTime": {
     "end_time": "2023-11-08T02:34:06.964392065Z",
     "start_time": "2023-11-08T02:34:06.861469447Z"
    }
   },
   "id": "abf823eaf0e8e024"
  },
  {
   "cell_type": "code",
   "execution_count": 47,
   "outputs": [
    {
     "ename": "ValueError",
     "evalue": "'p' must be 1-dimensional",
     "output_type": "error",
     "traceback": [
      "\u001B[0;31m---------------------------------------------------------------------------\u001B[0m",
      "\u001B[0;31mValueError\u001B[0m                                Traceback (most recent call last)",
      "Cell \u001B[0;32mIn[47], line 1\u001B[0m\n\u001B[0;32m----> 1\u001B[0m \u001B[38;5;28mnext\u001B[39m \u001B[38;5;241m=\u001B[39m \u001B[43mnp\u001B[49m\u001B[38;5;241;43m.\u001B[39;49m\u001B[43mrandom\u001B[49m\u001B[38;5;241;43m.\u001B[39;49m\u001B[43mchoice\u001B[49m\u001B[43m(\u001B[49m\u001B[43mvocab_idx\u001B[49m\u001B[43m,\u001B[49m\u001B[43msize\u001B[49m\u001B[38;5;241;43m=\u001B[39;49m\u001B[38;5;241;43m1\u001B[39;49m\u001B[43m,\u001B[49m\u001B[43m \u001B[49m\u001B[43mp\u001B[49m\u001B[38;5;241;43m=\u001B[39;49m\u001B[43mprobab\u001B[49m\u001B[43m)\u001B[49m\n",
      "File \u001B[0;32mmtrand.pyx:949\u001B[0m, in \u001B[0;36mnumpy.random.mtrand.RandomState.choice\u001B[0;34m()\u001B[0m\n",
      "\u001B[0;31mValueError\u001B[0m: 'p' must be 1-dimensional"
     ]
    }
   ],
   "source": [
    "next = np.random.choice(vocab_idx,size=1, p=probab)"
   ],
   "metadata": {
    "collapsed": false,
    "ExecuteTime": {
     "end_time": "2023-11-08T02:35:46.104942740Z",
     "start_time": "2023-11-08T02:35:46.090069266Z"
    }
   },
   "id": "2ea45d8acfd25a8e"
  },
  {
   "cell_type": "code",
   "execution_count": null,
   "outputs": [],
   "source": [],
   "metadata": {
    "collapsed": false
   },
   "id": "8b044fb974c5577f"
  }
 ],
 "metadata": {
  "kernelspec": {
   "display_name": "Python 3 (ipykernel)",
   "language": "python",
   "name": "python3"
  },
  "language_info": {
   "codemirror_mode": {
    "name": "ipython",
    "version": 3
   },
   "file_extension": ".py",
   "mimetype": "text/x-python",
   "name": "python",
   "nbconvert_exporter": "python",
   "pygments_lexer": "ipython3",
   "version": "3.11.5"
  }
 },
 "nbformat": 4,
 "nbformat_minor": 5
}
