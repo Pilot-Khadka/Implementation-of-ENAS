{
 "cells": [
  {
   "cell_type": "code",
   "execution_count": 7,
   "outputs": [
    {
     "name": "stdout",
     "output_type": "stream",
     "text": [
      "vocab size :  23\n",
      "Final layer id :  (3, 'softmax')\n",
      "Second last layer of the vocabulary :  dropout\n"
     ]
    }
   ],
   "source": [
    "from parameters import *\n",
    "\n",
    "def vocab_dict():\n",
    "    vocab = {}\n",
    "    \n",
    "    for i in range(len(nodes)):\n",
    "        for j in range(len(activations)):\n",
    "            \n",
    "            # Calculate layer ID\n",
    "            layer_id = len(activations) * i + j + 1\n",
    "            \n",
    "            # Store layer parameters in the vocabulary dictionary\n",
    "            vocab[layer_id] = (nodes[i], activations[j])\n",
    "    \n",
    "    # Add dropout information to the vocabulary\n",
    "    vocab[len(vocab) + 1] = (('dropout'))\n",
    "    \n",
    "    if target_classes == 2:\n",
    "        vocab[len(vocab) + 1] = (target_classes - 1, 'sigmoid')\n",
    "    else:\n",
    "        vocab[len(vocab) + 1] = (target_classes, 'softmax')\n",
    "    return vocab\n",
    "\n",
    "vocab = vocab_dict()\n",
    "print('vocab size : ' ,len(vocab))\n",
    "\n",
    "final_vocab_length = len(vocab)\n",
    "\n",
    "# The final id of the vocabulary will always be the size of output classes and a softmax layer\n",
    "\n",
    "print('Final layer id : ',vocab[final_vocab_length])\n",
    "\n",
    "# the semi-final layer \n",
    "print(\"Second last layer of the vocabulary : \",vocab[final_vocab_length-1])"
   ],
   "metadata": {
    "collapsed": false,
    "ExecuteTime": {
     "end_time": "2023-11-06T03:45:24.497643408Z",
     "start_time": "2023-11-06T03:45:24.485087858Z"
    }
   },
   "id": "f8177931d9d83b9e"
  },
  {
   "cell_type": "code",
   "execution_count": null,
   "outputs": [],
   "source": [
    "## Step 2: sample architecture from the vocabulary according to the size of the defined model\n",
    "\n"
   ],
   "metadata": {
    "collapsed": false
   },
   "id": "74bc385c1bee4254"
  },
  {
   "cell_type": "code",
   "execution_count": null,
   "outputs": [],
   "source": [],
   "metadata": {
    "collapsed": false
   },
   "id": "f2417fc0bf1b29b2"
  }
 ],
 "metadata": {
  "kernelspec": {
   "display_name": "Python 3",
   "language": "python",
   "name": "python3"
  },
  "language_info": {
   "codemirror_mode": {
    "name": "ipython",
    "version": 2
   },
   "file_extension": ".py",
   "mimetype": "text/x-python",
   "name": "python",
   "nbconvert_exporter": "python",
   "pygments_lexer": "ipython2",
   "version": "2.7.6"
  }
 },
 "nbformat": 4,
 "nbformat_minor": 5
}
