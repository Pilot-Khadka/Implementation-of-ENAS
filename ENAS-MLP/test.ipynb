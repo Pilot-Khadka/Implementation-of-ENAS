{
 "cells": [
  {
   "cell_type": "markdown",
   "id": "a548b1db9d3bd25f",
   "metadata": {},
   "source": [
    "# Neural architecture search for Multi-Layer Perceptron"
   ]
  },
  {
   "cell_type": "markdown",
   "id": "2ae00850c39a917b",
   "metadata": {},
   "source": [
    "### First defining the parameters to create a dictionary file containing a primary key for all possible combination of parameters\n"
   ]
  },
  {
   "cell_type": "code",
   "execution_count": 1,
   "id": "ba9b48b3ab209860",
   "metadata": {
    "collapsed": false,
    "tags": [],
    "ExecuteTime": {
     "end_time": "2023-11-12T06:56:40.186878803Z",
     "start_time": "2023-11-12T06:56:39.589545340Z"
    }
   },
   "outputs": [],
   "source": [
    "from parameters import *"
   ]
  },
  {
   "cell_type": "code",
   "execution_count": 2,
   "id": "f8177931d9d83b9e",
   "metadata": {
    "collapsed": false,
    "tags": [],
    "ExecuteTime": {
     "end_time": "2023-11-12T06:56:40.197995554Z",
     "start_time": "2023-11-12T06:56:39.632670671Z"
    }
   },
   "outputs": [
    {
     "name": "stdout",
     "output_type": "stream",
     "text": [
      "vocab size :  23\n",
      "Final layer id :  (3, 'softmax')\n",
      "Second last layer of the vocabulary :  dropout\n"
     ]
    }
   ],
   "source": [
    "\n",
    "def vocab_dict():\n",
    "    vocab = {}\n",
    "    \n",
    "    for i in range(len(nodes)):\n",
    "        for j in range(len(activations)):\n",
    "            \n",
    "            layer_id = len(activations) * i + j + 1\n",
    "            \n",
    "            vocab[layer_id] = (nodes[i], activations[j])\n",
    "    \n",
    "    vocab[len(vocab) + 1] = (('dropout'))\n",
    "    \n",
    "    if target_classes == 2:\n",
    "        vocab[len(vocab) + 1] = (target_classes - 1, 'sigmoid')\n",
    "    else:\n",
    "        vocab[len(vocab) + 1] = (target_classes, 'softmax')\n",
    "    return vocab\n",
    "\n",
    "vocab = vocab_dict()\n",
    "print('vocab size : ' ,len(vocab))\n",
    "\n",
    "final_vocab_length = len(vocab)\n",
    "\n",
    "# The final id of the vocabulary will always be the size of output classes and a softmax layer\n",
    "\n",
    "print('Final layer id : ',vocab[final_vocab_length])\n",
    "\n",
    "# the semi-final layer \n",
    "print(\"Second last layer of the vocabulary : \",vocab[final_vocab_length-1])"
   ]
  },
  {
   "cell_type": "code",
   "execution_count": 3,
   "id": "74bc385c1bee4254",
   "metadata": {
    "collapsed": false,
    "tags": [],
    "ExecuteTime": {
     "end_time": "2023-11-12T06:38:58.507033749Z",
     "start_time": "2023-11-12T06:38:58.316173666Z"
    }
   },
   "outputs": [
    {
     "name": "stdout",
     "output_type": "stream",
     "text": [
      "final_layer_id 23\n",
      "dropout_id: 22\n",
      "vocab ids: [0, 1, 2, 3, 4, 5, 6, 7, 8, 9, 10, 11, 12, 13, 14, 15, 16, 17, 18, 19, 20, 21, 22, 23]\n"
     ]
    }
   ],
   "source": [
    "## Step 2: sample architecture from the vocabulary according to the size of the defined model\n",
    "\n",
    "final_layer_id = len(vocab)\n",
    "dropout_id = final_layer_id -1\n",
    "print('final_layer_id',final_layer_id)\n",
    "print('dropout_id:',dropout_id)\n",
    "\n",
    "vocab_idx = [0]+list(vocab.keys())\n",
    "print('vocab ids:',vocab_idx)"
   ]
  },
  {
   "cell_type": "code",
   "execution_count": 4,
   "id": "f2417fc0bf1b29b2",
   "metadata": {
    "collapsed": false,
    "tags": [],
    "ExecuteTime": {
     "end_time": "2023-11-12T06:39:01.701380079Z",
     "start_time": "2023-11-12T06:38:58.317939841Z"
    }
   },
   "outputs": [
    {
     "name": "stderr",
     "output_type": "stream",
     "text": [
      "2023-11-12 12:23:58.658630: I tensorflow/tsl/cuda/cudart_stub.cc:28] Could not find cuda drivers on your machine, GPU will not be used.\n",
      "2023-11-12 12:23:58.726571: I tensorflow/tsl/cuda/cudart_stub.cc:28] Could not find cuda drivers on your machine, GPU will not be used.\n",
      "2023-11-12 12:23:58.727803: I tensorflow/core/platform/cpu_feature_guard.cc:182] This TensorFlow binary is optimized to use available CPU instructions in performance-critical operations.\n",
      "To enable the following instructions: AVX2 FMA, in other operations, rebuild TensorFlow with the appropriate compiler flags.\n",
      "2023-11-12 12:24:00.204703: W tensorflow/compiler/tf2tensorrt/utils/py_utils.cc:38] TF-TRT Warning: Could not find TensorRT\n"
     ]
    },
    {
     "name": "stdout",
     "output_type": "stream",
     "text": [
      "[[0 0 0 0 0 0 0 0 0]]\n"
     ]
    }
   ],
   "source": [
    "from keras.preprocessing.sequence import pad_sequences\n",
    "\n",
    "samples = []\n",
    "seed = []\n",
    "\n",
    "sequence = pad_sequences([seed],maxlen = 10-1,padding = 'post')\n",
    "print(sequence)"
   ]
  },
  {
   "cell_type": "code",
   "execution_count": 5,
   "id": "750534826d769463",
   "metadata": {
    "collapsed": false,
    "tags": [],
    "ExecuteTime": {
     "end_time": "2023-11-12T06:39:01.811355645Z",
     "start_time": "2023-11-12T06:39:01.706418163Z"
    }
   },
   "outputs": [
    {
     "name": "stdout",
     "output_type": "stream",
     "text": [
      "[[[0 0 0 0 0 0 0 0 0]]]\n"
     ]
    }
   ],
   "source": [
    "sequence = sequence.reshape(1,1,9)\n",
    "print(sequence)"
   ]
  },
  {
   "cell_type": "code",
   "execution_count": 6,
   "id": "260ac396a2375fd2",
   "metadata": {
    "collapsed": false,
    "tags": [],
    "ExecuteTime": {
     "end_time": "2023-11-12T06:39:01.829320235Z",
     "start_time": "2023-11-12T06:39:01.756257371Z"
    }
   },
   "outputs": [],
   "source": [
    "# ## Define a LSTM model to choose between sequences?\n",
    "# import tensorflow as tf\n",
    "# from tensorflow import keras\n",
    "# from tensorflow.keras import layers\n",
    "# \n",
    "# model = keras.Sequential()\n",
    "# model.add(layers.LSTM(controller_input_shape, input_shape=(None, 28)))\n",
    "# model.add(layers.BatchNormalization())\n",
    "# model.add(layers.Dense(10))\n",
    "# print(model.summary())"
   ]
  },
  {
   "cell_type": "code",
   "execution_count": 7,
   "id": "e9ccb18e9083d0a7",
   "metadata": {
    "collapsed": false,
    "tags": [],
    "ExecuteTime": {
     "end_time": "2023-11-12T06:39:01.831358936Z",
     "start_time": "2023-11-12T06:39:01.756787126Z"
    }
   },
   "outputs": [
    {
     "name": "stdout",
     "output_type": "stream",
     "text": [
      "24\n"
     ]
    }
   ],
   "source": [
    "controller_classes = len(vocab) + 1\n",
    "print(controller_classes)\n"
   ]
  },
  {
   "cell_type": "code",
   "execution_count": 8,
   "id": "e2d05067debea164",
   "metadata": {
    "collapsed": false,
    "tags": [],
    "ExecuteTime": {
     "end_time": "2023-11-12T06:39:02.825025971Z",
     "start_time": "2023-11-12T06:39:01.757027105Z"
    }
   },
   "outputs": [
    {
     "name": "stderr",
     "output_type": "stream",
     "text": [
      "2023-11-12 12:24:02.032602: I tensorflow/compiler/xla/stream_executor/cuda/cuda_gpu_executor.cc:995] successful NUMA node read from SysFS had negative value (-1), but there must be at least one NUMA node, so returning NUMA node zero. See more at https://github.com/torvalds/linux/blob/v6.0/Documentation/ABI/testing/sysfs-bus-pci#L344-L355\n",
      "2023-11-12 12:24:02.033800: W tensorflow/core/common_runtime/gpu/gpu_device.cc:1960] Cannot dlopen some GPU libraries. Please make sure the missing libraries mentioned above are installed properly if you would like to use GPU. Follow the guide at https://www.tensorflow.org/install/gpu for how to download and setup the required libraries for your platform.\n",
      "Skipping registering GPU devices...\n"
     ]
    },
    {
     "name": "stdout",
     "output_type": "stream",
     "text": [
      "Model: \"model\"\n",
      "_________________________________________________________________\n",
      " Layer (type)                Output Shape              Param #   \n",
      "=================================================================\n",
      " main_input (InputLayer)     [(32, 1, 9)]              0         \n",
      "                                                                 \n",
      " lstm (LSTM)                 (32, 1, 100)              44000     \n",
      "                                                                 \n",
      " main_output (Dense)         (32, 1, 24)               2424      \n",
      "                                                                 \n",
      "=================================================================\n",
      "Total params: 46424 (181.34 KB)\n",
      "Trainable params: 46424 (181.34 KB)\n",
      "Non-trainable params: 0 (0.00 Byte)\n",
      "_________________________________________________________________\n",
      "None\n"
     ]
    }
   ],
   "source": [
    "\n",
    "from keras.layers import Input,LSTM,Dense\n",
    "from keras.models import Model\n",
    "\n",
    "main_input = Input(\n",
    "    shape = controller_input_shape,\n",
    "    batch_size = controller_batch_size,\n",
    "    name = 'main_input')\n",
    "\n",
    "x = LSTM(controller_lstm_dim,\n",
    "         return_sequences = True)(main_input)\n",
    "\n",
    "main_output = Dense(controller_classes,\n",
    "                    activation = 'softmax',\n",
    "                    name = 'main_output')(x)\n",
    "\n",
    "model = Model(inputs = [main_input],\n",
    "              outputs = [main_output])\n",
    "\n",
    "print(model.summary())\n"
   ]
  },
  {
   "cell_type": "code",
   "execution_count": 2,
   "outputs": [
    {
     "name": "stderr",
     "output_type": "stream",
     "text": [
      "2023-11-13 11:20:17.717501: I tensorflow/tsl/cuda/cudart_stub.cc:28] Could not find cuda drivers on your machine, GPU will not be used.\n",
      "2023-11-13 11:20:18.104269: I tensorflow/tsl/cuda/cudart_stub.cc:28] Could not find cuda drivers on your machine, GPU will not be used.\n",
      "2023-11-13 11:20:18.106781: I tensorflow/core/platform/cpu_feature_guard.cc:182] This TensorFlow binary is optimized to use available CPU instructions in performance-critical operations.\n",
      "To enable the following instructions: AVX2 FMA, in other operations, rebuild TensorFlow with the appropriate compiler flags.\n",
      "2023-11-13 11:20:19.978903: W tensorflow/compiler/tf2tensorrt/utils/py_utils.cc:38] TF-TRT Warning: Could not find TensorRT\n"
     ]
    },
    {
     "ename": "NameError",
     "evalue": "name 'controller_input_shape' is not defined",
     "output_type": "error",
     "traceback": [
      "\u001B[0;31m---------------------------------------------------------------------------\u001B[0m",
      "\u001B[0;31mNameError\u001B[0m                                 Traceback (most recent call last)",
      "Cell \u001B[0;32mIn[2], line 5\u001B[0m\n\u001B[1;32m      1\u001B[0m \u001B[38;5;28;01mfrom\u001B[39;00m \u001B[38;5;21;01mkeras\u001B[39;00m\u001B[38;5;21;01m.\u001B[39;00m\u001B[38;5;21;01mlayers\u001B[39;00m \u001B[38;5;28;01mimport\u001B[39;00m Input,LSTM,Dense\n\u001B[1;32m      2\u001B[0m \u001B[38;5;28;01mfrom\u001B[39;00m \u001B[38;5;21;01mkeras\u001B[39;00m\u001B[38;5;21;01m.\u001B[39;00m\u001B[38;5;21;01mmodels\u001B[39;00m \u001B[38;5;28;01mimport\u001B[39;00m Model\n\u001B[1;32m      4\u001B[0m main_input \u001B[38;5;241m=\u001B[39m Input(\n\u001B[0;32m----> 5\u001B[0m     shape \u001B[38;5;241m=\u001B[39m \u001B[43mcontroller_input_shape\u001B[49m,\n\u001B[1;32m      6\u001B[0m     batch_size \u001B[38;5;241m=\u001B[39m controller_batch_size,\n\u001B[1;32m      7\u001B[0m     name \u001B[38;5;241m=\u001B[39m \u001B[38;5;124m'\u001B[39m\u001B[38;5;124mmain_input\u001B[39m\u001B[38;5;124m'\u001B[39m)\n\u001B[1;32m      9\u001B[0m x \u001B[38;5;241m=\u001B[39m LSTM(controller_lstm_dim,\n\u001B[1;32m     10\u001B[0m          return_sequences \u001B[38;5;241m=\u001B[39m \u001B[38;5;28;01mTrue\u001B[39;00m)(main_input)\n\u001B[1;32m     12\u001B[0m main_output \u001B[38;5;241m=\u001B[39m Dense(controller_classes,\n\u001B[1;32m     13\u001B[0m                     activation \u001B[38;5;241m=\u001B[39m \u001B[38;5;124m'\u001B[39m\u001B[38;5;124msoftmax\u001B[39m\u001B[38;5;124m'\u001B[39m,\n\u001B[1;32m     14\u001B[0m                     name \u001B[38;5;241m=\u001B[39m \u001B[38;5;124m'\u001B[39m\u001B[38;5;124mmain_output\u001B[39m\u001B[38;5;124m'\u001B[39m)(x)\n",
      "\u001B[0;31mNameError\u001B[0m: name 'controller_input_shape' is not defined"
     ]
    }
   ],
   "source": [
    "\n",
    "from keras.layers import Input,LSTM,Dense\n",
    "from keras.models import Model\n",
    "\n",
    "main_input = Input(\n",
    "    shape = controller_input_shape,\n",
    "    batch_size = controller_batch_size,\n",
    "    name = 'main_input')\n",
    "\n",
    "x = LSTM(controller_lstm_dim,\n",
    "         return_sequences = True)(main_input)\n",
    "\n",
    "main_output = Dense(controller_classes,\n",
    "                    activation = 'softmax',\n",
    "                    name = 'main_output')(x)\n",
    "\n",
    "model = Model(inputs = [main_input],\n",
    "              outputs = [main_output])\n",
    "\n",
    "print(model.summary())\n",
    "\n"
   ],
   "metadata": {
    "collapsed": false,
    "ExecuteTime": {
     "end_time": "2023-11-13T05:35:22.467866444Z",
     "start_time": "2023-11-13T05:35:16.839678675Z"
    }
   },
   "id": "f465f507a8c4fe45"
  },
  {
   "cell_type": "code",
   "execution_count": 9,
   "outputs": [
    {
     "name": "stdout",
     "output_type": "stream",
     "text": [
      "10\n",
      "10\n"
     ]
    }
   ],
   "source": [
    "print(number_of_samples)\n",
    "print(max_len)"
   ],
   "metadata": {
    "collapsed": false,
    "ExecuteTime": {
     "end_time": "2023-11-12T06:39:02.826038267Z",
     "start_time": "2023-11-12T06:39:02.776177826Z"
    }
   },
   "id": "26f580dcf5112791"
  },
  {
   "cell_type": "code",
   "execution_count": 10,
   "id": "c9a2f5bd4cca2f99",
   "metadata": {
    "collapsed": false,
    "tags": [],
    "ExecuteTime": {
     "end_time": "2023-11-12T06:39:11.570687136Z",
     "start_time": "2023-11-12T06:39:02.776545547Z"
    }
   },
   "outputs": [
    {
     "name": "stdout",
     "output_type": "stream",
     "text": [
      "1/1 [==============================] - 1s 552ms/step\n",
      "1/1 [==============================] - 0s 28ms/step\n",
      "1/1 [==============================] - 0s 27ms/step\n",
      "1/1 [==============================] - 0s 26ms/step\n",
      "1/1 [==============================] - 0s 26ms/step\n",
      "1/1 [==============================] - 0s 28ms/step\n",
      "1/1 [==============================] - 0s 25ms/step\n",
      "1/1 [==============================] - 0s 28ms/step\n",
      "1/1 [==============================] - 0s 27ms/step\n",
      "1/1 [==============================] - 0s 23ms/step\n",
      "1/1 [==============================] - 0s 28ms/step\n",
      "1/1 [==============================] - 0s 26ms/step\n",
      "1/1 [==============================] - 0s 25ms/step\n",
      "1/1 [==============================] - 0s 23ms/step\n",
      "1/1 [==============================] - 0s 30ms/step\n",
      "1/1 [==============================] - 0s 23ms/step\n",
      "1/1 [==============================] - 0s 28ms/step\n",
      "1/1 [==============================] - 0s 26ms/step\n",
      "1/1 [==============================] - 0s 28ms/step\n",
      "1/1 [==============================] - 0s 23ms/step\n",
      "1/1 [==============================] - 0s 27ms/step\n",
      "1/1 [==============================] - 0s 27ms/step\n",
      "1/1 [==============================] - 0s 31ms/step\n",
      "1/1 [==============================] - 0s 24ms/step\n",
      "1/1 [==============================] - 0s 27ms/step\n",
      "1/1 [==============================] - 0s 25ms/step\n",
      "1/1 [==============================] - 0s 24ms/step\n",
      "1/1 [==============================] - 0s 23ms/step\n",
      "1/1 [==============================] - 0s 28ms/step\n",
      "1/1 [==============================] - 0s 26ms/step\n",
      "1/1 [==============================] - 0s 28ms/step\n",
      "1/1 [==============================] - 0s 25ms/step\n",
      "1/1 [==============================] - 0s 23ms/step\n",
      "1/1 [==============================] - 0s 25ms/step\n",
      "1/1 [==============================] - 0s 27ms/step\n",
      "1/1 [==============================] - 0s 24ms/step\n",
      "1/1 [==============================] - 0s 22ms/step\n",
      "1/1 [==============================] - 0s 23ms/step\n",
      "1/1 [==============================] - 0s 31ms/step\n",
      "1/1 [==============================] - 0s 31ms/step\n",
      "1/1 [==============================] - 0s 28ms/step\n",
      "1/1 [==============================] - 0s 29ms/step\n",
      "1/1 [==============================] - 0s 23ms/step\n",
      "1/1 [==============================] - 0s 24ms/step\n",
      "1/1 [==============================] - 0s 25ms/step\n",
      "1/1 [==============================] - 0s 27ms/step\n",
      "1/1 [==============================] - 0s 28ms/step\n",
      "1/1 [==============================] - 0s 21ms/step\n",
      "1/1 [==============================] - 0s 24ms/step\n",
      "1/1 [==============================] - 0s 23ms/step\n",
      "1/1 [==============================] - 0s 25ms/step\n",
      "1/1 [==============================] - 0s 26ms/step\n",
      "1/1 [==============================] - 0s 24ms/step\n",
      "1/1 [==============================] - 0s 29ms/step\n",
      "1/1 [==============================] - 0s 33ms/step\n",
      "1/1 [==============================] - 0s 33ms/step\n",
      "1/1 [==============================] - 0s 32ms/step\n",
      "1/1 [==============================] - 0s 37ms/step\n",
      "1/1 [==============================] - 0s 33ms/step\n",
      "1/1 [==============================] - 0s 32ms/step\n",
      "1/1 [==============================] - 0s 29ms/step\n",
      "1/1 [==============================] - 0s 32ms/step\n",
      "1/1 [==============================] - 0s 39ms/step\n",
      "1/1 [==============================] - 0s 45ms/step\n",
      "1/1 [==============================] - 0s 29ms/step\n",
      "1/1 [==============================] - 0s 25ms/step\n",
      "1/1 [==============================] - 0s 24ms/step\n",
      "1/1 [==============================] - 0s 35ms/step\n",
      "1/1 [==============================] - 0s 26ms/step\n",
      "1/1 [==============================] - 0s 29ms/step\n",
      "1/1 [==============================] - 0s 24ms/step\n",
      "1/1 [==============================] - 0s 29ms/step\n",
      "1/1 [==============================] - 0s 36ms/step\n",
      "1/1 [==============================] - 0s 37ms/step\n",
      "1/1 [==============================] - 0s 24ms/step\n",
      "1/1 [==============================] - 0s 23ms/step\n",
      "1/1 [==============================] - 0s 23ms/step\n",
      "1/1 [==============================] - 0s 23ms/step\n",
      "1/1 [==============================] - 0s 24ms/step\n",
      "1/1 [==============================] - 0s 29ms/step\n",
      "1/1 [==============================] - 0s 36ms/step\n",
      "1/1 [==============================] - 0s 25ms/step\n",
      "1/1 [==============================] - 0s 25ms/step\n",
      "1/1 [==============================] - 0s 43ms/step\n",
      "1/1 [==============================] - 0s 35ms/step\n",
      "1/1 [==============================] - 0s 29ms/step\n",
      "1/1 [==============================] - 0s 37ms/step\n",
      "1/1 [==============================] - 0s 31ms/step\n",
      "1/1 [==============================] - 0s 25ms/step\n",
      "1/1 [==============================] - 0s 31ms/step\n",
      "1/1 [==============================] - 0s 25ms/step\n"
     ]
    }
   ],
   "source": [
    "import numpy as np\n",
    "seq_data = []\n",
    "\n",
    "while len(samples) < number_of_samples :\n",
    "    seed = []\n",
    "    while len(seed) < max_len:\n",
    "        sequence = pad_sequences([seed],maxlen = 10-1,padding = 'post')\n",
    "        sequence = sequence.reshape(1,1,max_len-1)\n",
    "        # print(sequence.shape)\n",
    "        \n",
    "        probab = model.predict(sequence)\n",
    "        probab = probab[0][0]\n",
    "        next = np.random.choice(vocab_idx,size=1, p = probab)[0]\n",
    "\n",
    "        if next == dropout_id and len(seed) == 0:\n",
    "            continue\n",
    "        if next == final_layer_id and len(seed) == 0:\n",
    "            continue\n",
    "        if next == final_layer_id:\n",
    "            seed.append(next)\n",
    "            break\n",
    "        if len(seed) == max_len - 1:\n",
    "            seed.append(final_layer_id)\n",
    "            break\n",
    "        if not next == 0:\n",
    "            seed.append(next)\n",
    "    if seed not in seq_data:\n",
    "        samples.append(seed)\n",
    "        seq_data.append(seed)\n",
    "        # print(probab)"
   ]
  },
  {
   "cell_type": "code",
   "execution_count": 11,
   "outputs": [
    {
     "name": "stdout",
     "output_type": "stream",
     "text": [
      "[[8, 22, 3, 17, 21, 20, 8, 19, 15, 23], [3, 6, 15, 4, 6, 7, 12, 9, 9, 23], [10, 15, 17, 11, 8, 23], [2, 22, 11, 14, 15, 8, 1, 14, 7, 23], [1, 8, 15, 9, 23], [8, 3, 9, 6, 15, 21, 4, 1, 1, 23], [13, 3, 18, 23], [17, 22, 11, 15, 12, 14, 21, 14, 17, 23], [20, 21, 12, 1, 17, 20, 10, 6, 8, 23], [5, 14, 6, 17, 7, 3, 20, 14, 15, 23]]\n"
     ]
    }
   ],
   "source": [
    "print(samples)"
   ],
   "metadata": {
    "collapsed": false,
    "ExecuteTime": {
     "end_time": "2023-11-12T06:39:11.626370060Z",
     "start_time": "2023-11-12T06:39:11.568518807Z"
    }
   },
   "id": "5c2b2a964ef1f62a"
  },
  {
   "cell_type": "code",
   "execution_count": 12,
   "id": "1afa20a00db2ad14",
   "metadata": {
    "collapsed": false,
    "ExecuteTime": {
     "end_time": "2023-11-12T06:39:11.627133578Z",
     "start_time": "2023-11-12T06:39:11.611085813Z"
    }
   },
   "outputs": [],
   "source": [
    "# probab = probab[0][0]\n",
    "# print(probab)"
   ]
  },
  {
   "cell_type": "code",
   "execution_count": 13,
   "outputs": [],
   "source": [
    "# import numpy as np\n",
    "# next = np.random.choice(vocab_idx,size=1, p = probab)[0]\n",
    "# print(next)"
   ],
   "metadata": {
    "collapsed": false,
    "ExecuteTime": {
     "end_time": "2023-11-12T06:39:11.627787373Z",
     "start_time": "2023-11-12T06:39:11.613046010Z"
    }
   },
   "id": "986cb893d6932852"
  },
  {
   "cell_type": "code",
   "execution_count": 14,
   "outputs": [],
   "source": [
    "# seed.append(next)\n",
    "# print(seed)"
   ],
   "metadata": {
    "collapsed": false,
    "ExecuteTime": {
     "end_time": "2023-11-12T06:39:11.628361757Z",
     "start_time": "2023-11-12T06:39:11.613942229Z"
    }
   },
   "id": "a4bb881df700d448"
  },
  {
   "cell_type": "code",
   "execution_count": 15,
   "outputs": [],
   "source": [
    "# sequence = pad_sequences([seed],maxlen=max_len-1,padding='post')\n",
    "# print(sequence)"
   ],
   "metadata": {
    "collapsed": false,
    "ExecuteTime": {
     "end_time": "2023-11-12T06:39:11.629136240Z",
     "start_time": "2023-11-12T06:39:11.614265739Z"
    }
   },
   "id": "ed2f8c9fca55b51c"
  },
  {
   "cell_type": "code",
   "execution_count": 16,
   "outputs": [],
   "source": [
    "# sequence = sequence.reshape(1, 1, max_len - 1)\n",
    "# print(sequence)"
   ],
   "metadata": {
    "collapsed": false,
    "ExecuteTime": {
     "end_time": "2023-11-12T06:39:11.752014217Z",
     "start_time": "2023-11-12T06:39:11.614514727Z"
    }
   },
   "id": "ea4bbce6a523a643"
  },
  {
   "cell_type": "code",
   "execution_count": 1,
   "outputs": [
    {
     "ename": "NameError",
     "evalue": "name 'model' is not defined",
     "output_type": "error",
     "traceback": [
      "\u001B[0;31m---------------------------------------------------------------------------\u001B[0m",
      "\u001B[0;31mNameError\u001B[0m                                 Traceback (most recent call last)",
      "Cell \u001B[0;32mIn[1], line 1\u001B[0m\n\u001B[0;32m----> 1\u001B[0m probab \u001B[38;5;241m=\u001B[39m \u001B[43mmodel\u001B[49m\u001B[38;5;241m.\u001B[39mpredict(sequence)\n\u001B[1;32m      2\u001B[0m \u001B[38;5;28mprint\u001B[39m(probab)\n",
      "\u001B[0;31mNameError\u001B[0m: name 'model' is not defined"
     ]
    }
   ],
   "source": [
    "probab = model.predict(sequence)\n",
    "print(probab)"
   ],
   "metadata": {
    "collapsed": false,
    "ExecuteTime": {
     "end_time": "2023-11-13T05:35:10.929878053Z",
     "start_time": "2023-11-13T05:35:10.699116581Z"
    }
   },
   "id": "abf823eaf0e8e024"
  },
  {
   "cell_type": "code",
   "execution_count": null,
   "outputs": [],
   "source": [
    "# next = np.random.choice(vocab_idx,size=1, p=probab)"
   ],
   "metadata": {
    "collapsed": false,
    "ExecuteTime": {
     "end_time": "2023-11-13T05:35:10.944594654Z",
     "start_time": "2023-11-13T05:35:10.932465848Z"
    }
   },
   "id": "2ea45d8acfd25a8e"
  },
  {
   "cell_type": "code",
   "execution_count": 19,
   "outputs": [
    {
     "name": "stdout",
     "output_type": "stream",
     "text": [
      "Control Sequences: [[22  3 17 21 20  8 19 15 23]]\n",
      "1/1 [==============================] - 0s 31ms/step\n",
      "Control Sequences: [[ 6 15  4  6  7 12  9  9 23]]\n",
      "1/1 [==============================] - 0s 26ms/step\n",
      "Control Sequences: [[10 15 17 11  8 23  0  0  0]]\n",
      "1/1 [==============================] - 0s 30ms/step\n",
      "Control Sequences: [[22 11 14 15  8  1 14  7 23]]\n",
      "1/1 [==============================] - 0s 43ms/step\n",
      "Control Sequences: [[ 1  8 15  9 23  0  0  0  0]]\n",
      "1/1 [==============================] - 0s 30ms/step\n",
      "Control Sequences: [[ 3  9  6 15 21  4  1  1 23]]\n",
      "1/1 [==============================] - 0s 34ms/step\n",
      "Control Sequences: [[13  3 18 23  0  0  0  0  0]]\n",
      "1/1 [==============================] - 0s 34ms/step\n",
      "Control Sequences: [[22 11 15 12 14 21 14 17 23]]\n",
      "1/1 [==============================] - 0s 29ms/step\n",
      "Control Sequences: [[21 12  1 17 20 10  6  8 23]]\n",
      "1/1 [==============================] - 0s 32ms/step\n",
      "Control Sequences: [[14  6 17  7  3 20 14 15 23]]\n",
      "1/1 [==============================] - 0s 32ms/step\n",
      "[0.028286936, 0.03525332, 0.036060266, 0.027123433, 0.041924972, 0.032188956, 0.03056235, 0.031462576, 0.028702358, 0.034334183]\n"
     ]
    }
   ],
   "source": [
    "pred_accuracies = []\n",
    "for seq in samples:\n",
    "    control_sequences = pad_sequences([seq],maxlen=max_len-1,padding='post')\n",
    "    print(\"Control Sequences:\", control_sequences)\n",
    "    \n",
    "    # xc = control_sequences[:, :-1]\n",
    "    # print(\"Shape after slicing:\", xc.shape)\n",
    "\n",
    "    xc = control_sequences[:, :max_len-1].reshape(len(control_sequences), 1, max_len - 1)\n",
    "    \n",
    "    pred_accuracy = [x[0][0] for x in model.predict(xc)]\n",
    "    pred_accuracies.append(pred_accuracy[0])\n",
    "print(pred_accuracies)"
   ],
   "metadata": {
    "collapsed": false,
    "ExecuteTime": {
     "end_time": "2023-11-12T06:39:12.769214172Z",
     "start_time": "2023-11-12T06:39:11.656829950Z"
    }
   },
   "id": "8b044fb974c5577f"
  },
  {
   "cell_type": "code",
   "execution_count": 19,
   "outputs": [],
   "source": [
    "for i, sequence in enumerate(samples):\n",
    "    "
   ],
   "metadata": {
    "collapsed": false,
    "ExecuteTime": {
     "end_time": "2023-11-12T06:39:12.770429779Z",
     "start_time": "2023-11-12T06:39:12.728087597Z"
    }
   },
   "id": "9124c8fc1cadf4bf"
  }
 ],
 "metadata": {
  "kernelspec": {
   "display_name": "Python 3 (ipykernel)",
   "language": "python",
   "name": "python3"
  },
  "language_info": {
   "codemirror_mode": {
    "name": "ipython",
    "version": 3
   },
   "file_extension": ".py",
   "mimetype": "text/x-python",
   "name": "python",
   "nbconvert_exporter": "python",
   "pygments_lexer": "ipython3",
   "version": "3.11.5"
  }
 },
 "nbformat": 4,
 "nbformat_minor": 5
}
