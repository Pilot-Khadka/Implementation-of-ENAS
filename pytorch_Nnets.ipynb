{
 "cells": [
  {
   "cell_type": "code",
   "execution_count": 25,
   "metadata": {},
   "outputs": [],
   "source": [
    "import torch\n",
    "import torch.nn as nn\n",
    "import torchvision\n",
    "import torchvision.transforms as transforms\n",
    "\n",
    "batch_size =32\n",
    "num_classes = 10\n",
    "learning_rate = 0.001\n",
    "epochs = 5\n",
    "\n",
    "device = torch.device('cuda' if torch.cuda.is_available() else 'cpu')"
   ]
  },
  {
   "cell_type": "code",
   "execution_count": 26,
   "metadata": {},
   "outputs": [],
   "source": [
    "from torch.utils.data import Dataset\n",
    "from torchvision import datasets\n",
    "from torchvision.transforms import ToTensor\n",
    "import matplotlib.pyplot as plt \n",
    "\n",
    "\n",
    "all_transforms = transforms.Compose([\n",
    "                                transforms.Resize((32,32)),\n",
    "                                transforms.ToTensor()\n",
    "                    ]\n",
    ")\n",
    "\n",
    "training_data = datasets.FashionMNIST(\n",
    "        root = \"./data\",\n",
    "        train = True,\n",
    "        download = True,\n",
    "        transform = all_transforms\n",
    ")\n",
    "\n",
    "test_data = datasets.FashionMNIST(\n",
    "        root=\"./data\",\n",
    "        train = False,\n",
    "        download = True,\n",
    "        transform = all_transforms\n",
    ")\n",
    "\n",
    "train_loader = torch.utils.data.DataLoader(dataset = training_data,\n",
    "                                            batch_size = batch_size,\n",
    "                                            shuffle = True)\n",
    "\n",
    "test_loader = torch.utils.data.DataLoader(dataset = test_data,\n",
    "                                            batch_size = batch_size,\n",
    "                                            shuffle = True)\n"
   ]
  },
  {
   "cell_type": "code",
   "execution_count": 31,
   "metadata": {},
   "outputs": [],
   "source": [
    "class CNN(nn.Module):\n",
    "    def __init__(self, num_classes):\n",
    "        super(CNN, self).__init__()\n",
    "        self.conv_layer1 = nn.Conv2d(in_channels=1, out_channels=32, kernel_size=3)\n",
    "        self.conv_layer2 = nn.Conv2d(in_channels=32, out_channels=64, kernel_size=3)\n",
    "        self.max_pool1 = nn.MaxPool2d(kernel_size=2, stride=2)\n",
    "\n",
    "        self.conv_layer3 = nn.Conv2d(in_channels=64,out_channels=128, kernel_size=3)\n",
    "        self.conv_layer4 =nn.Conv2d(in_channels=128, out_channels=128, kernel_size=3)\n",
    "        self.max_pool2 = nn.MaxPool2d(kernel_size=2, stride=2)\n",
    "\n",
    "        self.fc1 = nn.Linear(3200, 64)\n",
    "        self.relu1 = nn.ReLU()\n",
    "        self.fc2 = nn.Linear(64, num_classes)\n",
    "\n",
    "    def forward(self, x):\n",
    "        out = self.conv_layer1(x)\n",
    "        out = self.conv_layer2(out)\n",
    "        out = self.max_pool1(out)\n",
    "\n",
    "        out = self.conv_layer3(out)\n",
    "        out = self.conv_layer4(out)\n",
    "        out = self.max_pool2(out)\n",
    "\n",
    "        out = out.reshape(out.size(0),-1)\n",
    "\n",
    "        out = self.fc1(out)\n",
    "        out = self.relu1(out)\n",
    "        out = self.fc2(out)\n",
    "        return out"
   ]
  },
  {
   "cell_type": "code",
   "execution_count": 35,
   "metadata": {},
   "outputs": [],
   "source": [
    "model = CNN(num_classes)\n",
    "model = model.to(device)\n",
    "# loss function\n",
    "criteria = nn.CrossEntropyLoss()\n",
    "\n",
    "optimizer = torch.optim.SGD(model.parameters(), lr = learning_rate, momentum=0.9,weight_decay=0.005 )\n",
    "\n",
    "total_step = len(train_loader)"
   ]
  },
  {
   "cell_type": "code",
   "execution_count": 36,
   "metadata": {},
   "outputs": [
    {
     "name": "stdout",
     "output_type": "stream",
     "text": [
      "Epoch [1/5, Loss: 0.666473]\n",
      "Epoch [2/5, Loss: 0.552334]\n",
      "Epoch [3/5, Loss: 0.550636]\n",
      "Epoch [4/5, Loss: 0.444051]\n",
      "Epoch [5/5, Loss: 0.297644]\n"
     ]
    }
   ],
   "source": [
    "for epoch in range(epochs):\n",
    "    for data in train_loader:\n",
    "        images,labels = data\n",
    "        images = images.to(device)\n",
    "        labels = labels.to(device)\n",
    "\n",
    "        outputs = model(images)\n",
    "        loss = criteria(outputs,labels)\n",
    "\n",
    "        #Backprop\n",
    "        optimizer.zero_grad()\n",
    "        loss.backward()\n",
    "        optimizer.step()\n",
    "\n",
    "    print('Epoch [{}/{}, Loss: {:4f}]'.format(epoch+1, epochs, loss.item()))"
   ]
  },
  {
   "cell_type": "code",
   "execution_count": 34,
   "metadata": {},
   "outputs": [
    {
     "name": "stdout",
     "output_type": "stream",
     "text": [
      "Accuracy : 70.0625%\n"
     ]
    }
   ],
   "source": [
    "# Testing model\n",
    "with torch.no_grad():\n",
    "    correct = 0\n",
    "    total =0\n",
    "    for data in test_loader:\n",
    "        images = images.to(device)\n",
    "        labels = images.to(device)\n",
    "\n",
    "        outputs = model(images)\n",
    "\n",
    "        _, predicted = torch.max(outputs.data,1)\n",
    "        total+= labels.size(0)\n",
    "        correct+= (predicted == labels).sum().item()\n",
    "\n",
    "    print('Accuracy : {}%'.format(correct/total))"
   ]
  },
  {
   "cell_type": "code",
   "execution_count": null,
   "metadata": {},
   "outputs": [],
   "source": []
  },
  {
   "cell_type": "code",
   "execution_count": null,
   "metadata": {},
   "outputs": [],
   "source": []
  }
 ],
 "metadata": {
  "kernelspec": {
   "display_name": "Python 3 (ipykernel)",
   "language": "python",
   "name": "python3"
  },
  "language_info": {
   "codemirror_mode": {
    "name": "ipython",
    "version": 3
   },
   "file_extension": ".py",
   "mimetype": "text/x-python",
   "name": "python",
   "nbconvert_exporter": "python",
   "pygments_lexer": "ipython3",
   "version": "3.8.17"
  }
 },
 "nbformat": 4,
 "nbformat_minor": 4
}
